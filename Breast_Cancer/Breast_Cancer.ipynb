{
 "cells": [
  {
   "cell_type": "markdown",
   "metadata": {},
   "source": [
    "# KNN CLassifier - Breast Cancer"
   ]
  },
  {
   "cell_type": "markdown",
   "metadata": {},
   "source": [
    "Data Fields from: [UCI](http://archive.ics.uci.edu/ml/datasets/Breast+Cancer+Wisconsin+%28Diagnostic%29)"
   ]
  },
  {
   "cell_type": "code",
   "execution_count": 40,
   "metadata": {},
   "outputs": [],
   "source": [
    "import numpy as np\n",
    "import pandas as pd\n",
    "from sklearn.metrics import accuracy_score, classification_report\n",
    "breast_cancer = pd.read_csv(\"Breast_Cancer_Wisconsin.csv\")"
   ]
  },
  {
   "cell_type": "code",
   "execution_count": 41,
   "metadata": {},
   "outputs": [
    {
     "data": {
      "text/plain": [
       "(699, 11)"
      ]
     },
     "execution_count": 41,
     "metadata": {},
     "output_type": "execute_result"
    }
   ],
   "source": [
    "breast_cancer.shape"
   ]
  },
  {
   "cell_type": "code",
   "execution_count": 42,
   "metadata": {},
   "outputs": [
    {
     "data": {
      "text/html": [
       "<div>\n",
       "<style scoped>\n",
       "    .dataframe tbody tr th:only-of-type {\n",
       "        vertical-align: middle;\n",
       "    }\n",
       "\n",
       "    .dataframe tbody tr th {\n",
       "        vertical-align: top;\n",
       "    }\n",
       "\n",
       "    .dataframe thead th {\n",
       "        text-align: right;\n",
       "    }\n",
       "</style>\n",
       "<table border=\"1\" class=\"dataframe\">\n",
       "  <thead>\n",
       "    <tr style=\"text-align: right;\">\n",
       "      <th></th>\n",
       "      <th>ID_Number</th>\n",
       "      <th>Clump_Thickness</th>\n",
       "      <th>Unif_Cell_Size</th>\n",
       "      <th>Unif_Cell_Shape</th>\n",
       "      <th>Marg_Adhesion</th>\n",
       "      <th>Single_Epith_Cell_Size</th>\n",
       "      <th>Bare_Nuclei</th>\n",
       "      <th>Bland_Chromatin</th>\n",
       "      <th>Normal_Nucleoli</th>\n",
       "      <th>Mitoses</th>\n",
       "      <th>Class</th>\n",
       "    </tr>\n",
       "  </thead>\n",
       "  <tbody>\n",
       "    <tr>\n",
       "      <th>0</th>\n",
       "      <td>1000025</td>\n",
       "      <td>5</td>\n",
       "      <td>1</td>\n",
       "      <td>1</td>\n",
       "      <td>1</td>\n",
       "      <td>2</td>\n",
       "      <td>1</td>\n",
       "      <td>3</td>\n",
       "      <td>1</td>\n",
       "      <td>1</td>\n",
       "      <td>2</td>\n",
       "    </tr>\n",
       "    <tr>\n",
       "      <th>1</th>\n",
       "      <td>1002945</td>\n",
       "      <td>5</td>\n",
       "      <td>4</td>\n",
       "      <td>4</td>\n",
       "      <td>5</td>\n",
       "      <td>7</td>\n",
       "      <td>10</td>\n",
       "      <td>3</td>\n",
       "      <td>2</td>\n",
       "      <td>1</td>\n",
       "      <td>2</td>\n",
       "    </tr>\n",
       "    <tr>\n",
       "      <th>2</th>\n",
       "      <td>1015425</td>\n",
       "      <td>3</td>\n",
       "      <td>1</td>\n",
       "      <td>1</td>\n",
       "      <td>1</td>\n",
       "      <td>2</td>\n",
       "      <td>2</td>\n",
       "      <td>3</td>\n",
       "      <td>1</td>\n",
       "      <td>1</td>\n",
       "      <td>2</td>\n",
       "    </tr>\n",
       "    <tr>\n",
       "      <th>3</th>\n",
       "      <td>1016277</td>\n",
       "      <td>6</td>\n",
       "      <td>8</td>\n",
       "      <td>8</td>\n",
       "      <td>1</td>\n",
       "      <td>3</td>\n",
       "      <td>4</td>\n",
       "      <td>3</td>\n",
       "      <td>7</td>\n",
       "      <td>1</td>\n",
       "      <td>2</td>\n",
       "    </tr>\n",
       "    <tr>\n",
       "      <th>4</th>\n",
       "      <td>1017023</td>\n",
       "      <td>4</td>\n",
       "      <td>1</td>\n",
       "      <td>1</td>\n",
       "      <td>3</td>\n",
       "      <td>2</td>\n",
       "      <td>1</td>\n",
       "      <td>3</td>\n",
       "      <td>1</td>\n",
       "      <td>1</td>\n",
       "      <td>2</td>\n",
       "    </tr>\n",
       "  </tbody>\n",
       "</table>\n",
       "</div>"
      ],
      "text/plain": [
       "   ID_Number  Clump_Thickness  Unif_Cell_Size  Unif_Cell_Shape  Marg_Adhesion  \\\n",
       "0    1000025                5               1                1              1   \n",
       "1    1002945                5               4                4              5   \n",
       "2    1015425                3               1                1              1   \n",
       "3    1016277                6               8                8              1   \n",
       "4    1017023                4               1                1              3   \n",
       "\n",
       "   Single_Epith_Cell_Size Bare_Nuclei  Bland_Chromatin  Normal_Nucleoli  \\\n",
       "0                       2           1                3                1   \n",
       "1                       7          10                3                2   \n",
       "2                       2           2                3                1   \n",
       "3                       3           4                3                7   \n",
       "4                       2           1                3                1   \n",
       "\n",
       "   Mitoses  Class  \n",
       "0        1      2  \n",
       "1        1      2  \n",
       "2        1      2  \n",
       "3        1      2  \n",
       "4        1      2  "
      ]
     },
     "execution_count": 42,
     "metadata": {},
     "output_type": "execute_result"
    }
   ],
   "source": [
    "breast_cancer.head()"
   ]
  },
  {
   "cell_type": "code",
   "execution_count": 43,
   "metadata": {},
   "outputs": [],
   "source": [
    "breast_cancer['Bare_Nuclei'] = breast_cancer['Bare_Nuclei'].replace('?', np.NAN)\n",
    "breast_cancer['Bare_Nuclei'] = breast_cancer['Bare_Nuclei'].fillna(breast_cancer['Bare_Nuclei'].value_counts().index[0])"
   ]
  },
  {
   "cell_type": "code",
   "execution_count": 44,
   "metadata": {},
   "outputs": [],
   "source": [
    "breast_cancer['Cancer_Ind'] = 0\n",
    "breast_cancer.loc[breast_cancer['Class']==4, 'Cancer_Ind'] = 1"
   ]
  },
  {
   "cell_type": "code",
   "execution_count": 45,
   "metadata": {},
   "outputs": [
    {
     "name": "stderr",
     "output_type": "stream",
     "text": [
      "C:\\Users\\403-6\\Anaconda3\\lib\\site-packages\\sklearn\\utils\\validation.py:475: DataConversionWarning: Data with input dtype object was converted to float64 by StandardScaler.\n",
      "  warnings.warn(msg, DataConversionWarning)\n"
     ]
    }
   ],
   "source": [
    "x_vars = breast_cancer.drop(['ID_Number', 'Class', 'Cancer_Ind'], axis =1)\n",
    "y_var = breast_cancer['Cancer_Ind']\n",
    "\n",
    "from sklearn.preprocessing import StandardScaler\n",
    "x_vars_stdscle = StandardScaler().fit_transform(x_vars.values)"
   ]
  },
  {
   "cell_type": "code",
   "execution_count": 46,
   "metadata": {},
   "outputs": [
    {
     "name": "stderr",
     "output_type": "stream",
     "text": [
      "C:\\Users\\403-6\\Anaconda3\\lib\\site-packages\\sklearn\\model_selection\\_split.py:2026: FutureWarning: From version 0.21, test_size will always complement train_size unless both are specified.\n",
      "  FutureWarning)\n"
     ]
    }
   ],
   "source": [
    "from sklearn.model_selection import train_test_split\n",
    "x_vars_stdscle_df = pd.DataFrame(x_vars_stdscle, index=x_vars.index, columns=x_vars.columns)\n",
    "x_train, x_test, y_train, y_test = train_test_split(x_vars_stdscle_df, y_var, \n",
    "                                                    train_size = 0.7, random_state=42)"
   ]
  },
  {
   "cell_type": "code",
   "execution_count": 47,
   "metadata": {},
   "outputs": [
    {
     "name": "stdout",
     "output_type": "stream",
     "text": [
      "K-Nearest Neighbors - Train Confusion Matrix\n",
      " Predicted    0    1\n",
      "Actuall            \n",
      "0          309    6\n",
      "1            4  170\n",
      "\n",
      "\n",
      "K-Nearest Neighbors - Train accuracy\n",
      " 0.98\n",
      "\n",
      "\n",
      "K-Nearest Neighbors - Train Classification Report\n",
      "              precision    recall  f1-score   support\n",
      "\n",
      "          0       0.99      0.98      0.98       315\n",
      "          1       0.97      0.98      0.97       174\n",
      "\n",
      "avg / total       0.98      0.98      0.98       489\n",
      "\n"
     ]
    }
   ],
   "source": [
    "from sklearn.neighbors import KNeighborsClassifier\n",
    "knn_fit = KNeighborsClassifier(n_neighbors=3, p=2, metric='minkowski')\n",
    "knn_fit.fit(x_train, y_train)\n",
    "\n",
    "print(\"K-Nearest Neighbors - Train Confusion Matrix\\n\", \n",
    "      pd.crosstab(y_train, knn_fit.predict(x_train), \n",
    "                  rownames = [\"Actuall\"], colnames = [\"Predicted\"]))\n",
    "\n",
    "print(\"\\n\\nK-Nearest Neighbors - Train accuracy\\n\", \n",
    "      round(accuracy_score(y_train, knn_fit.predict(x_train)), 3))\n",
    "\n",
    "print(\"\\n\\nK-Nearest Neighbors - Train Classification Report\\n\", \n",
    "      classification_report(y_train, knn_fit.predict(x_train)))"
   ]
  },
  {
   "cell_type": "code",
   "execution_count": 48,
   "metadata": {},
   "outputs": [
    {
     "name": "stdout",
     "output_type": "stream",
     "text": [
      "K-Nearest Neighbors - Test Confusion Matrix\n",
      " Predicted    0   1\n",
      "Actuall           \n",
      "0          141   2\n",
      "1            3  64\n",
      "\n",
      "\n",
      "K-Nearest Neighbors - Test accuracy\n",
      " 0.976\n",
      "\n",
      "\n",
      "K-Nearest Neighbors - Test Classification Report\n",
      "              precision    recall  f1-score   support\n",
      "\n",
      "          0       0.98      0.99      0.98       143\n",
      "          1       0.97      0.96      0.96        67\n",
      "\n",
      "avg / total       0.98      0.98      0.98       210\n",
      "\n"
     ]
    }
   ],
   "source": [
    "print(\"K-Nearest Neighbors - Test Confusion Matrix\\n\", \n",
    "      pd.crosstab(y_test, knn_fit.predict(x_test), rownames = [\"Actuall\"],colnames = [\"Predicted\"]))\n",
    "\n",
    "print(\"\\n\\nK-Nearest Neighbors - Test accuracy\\n\", \n",
    "      round(accuracy_score(y_test, knn_fit.predict(x_test)),3))\n",
    "\n",
    "print(\"\\n\\nK-Nearest Neighbors - Test Classification Report\\n\", \n",
    "      classification_report(y_test,knn_fit.predict(x_test)))"
   ]
  },
  {
   "cell_type": "markdown",
   "metadata": {},
   "source": [
    "**Tuning of K- value for Train & Test data**"
   ]
  },
  {
   "cell_type": "code",
   "execution_count": 49,
   "metadata": {},
   "outputs": [
    {
     "name": "stdout",
     "output_type": "stream",
     "text": [
      "K-value :  1\n",
      "K-value :  2\n",
      "K-value :  3\n",
      "K-value :  4\n",
      "K-value :  5\n"
     ]
    }
   ],
   "source": [
    "dummyarray = np.empty((5,3))\n",
    "k_valchart = pd.DataFrame(dummyarray)\n",
    "k_valchart.columns = [\"K_value\", \"Train_acc\", \"Test_acc\"]\n",
    "\n",
    "k_vals = [1,2,3,4,5]\n",
    "\n",
    "for i in range(len(k_vals)) :\n",
    "    knn_fit = KNeighborsClassifier(n_neighbors=k_vals[i], p=2, metric='minkowski')\n",
    "    knn_fit.fit(x_train, y_train)\n",
    "    \n",
    "    print(\"K-value : \", k_vals[i])"
   ]
  },
  {
   "cell_type": "code",
   "execution_count": 50,
   "metadata": {},
   "outputs": [
    {
     "name": "stdout",
     "output_type": "stream",
     "text": [
      "K-Nearest Neighbors - Train Confusion Matrix\n",
      " Predicted    0    1\n",
      "Actuall            \n",
      "0          306    9\n",
      "1            7  167\n",
      "\n",
      "\n",
      "K-Nearest Neighbors -Train accuracy\n",
      " 0.967\n",
      "\n",
      "\n",
      "K-Nearest Neighbors - Train Classification Report\n",
      "              precision    recall  f1-score   support\n",
      "\n",
      "          0       0.98      0.97      0.97       315\n",
      "          1       0.95      0.96      0.95       174\n",
      "\n",
      "avg / total       0.97      0.97      0.97       489\n",
      "\n"
     ]
    }
   ],
   "source": [
    "tr_accscore = round(accuracy_score(y_train, knn_fit.predict(x_train)), 3)\n",
    "\n",
    "print(\"K-Nearest Neighbors - Train Confusion Matrix\\n\", \n",
    "    pd.crosstab(y_train, knn_fit.predict(x_train), rownames = [\"Actuall\"], colnames = [\"Predicted\"]))\n",
    "\n",
    "print(\"\\n\\nK-Nearest Neighbors -Train accuracy\\n\",\n",
    "     tr_accscore)\n",
    "\n",
    "print(\"\\n\\nK-Nearest Neighbors - Train Classification Report\\n\", \n",
    "     classification_report(y_train, knn_fit.predict(x_train)))"
   ]
  },
  {
   "cell_type": "code",
   "execution_count": 51,
   "metadata": {},
   "outputs": [
    {
     "name": "stdout",
     "output_type": "stream",
     "text": [
      "K-Nearest Neighbors - Test Confusion Matrix\n",
      " Predict    0   1\n",
      "Actuall         \n",
      "0        141   2\n",
      "1          5  62\n",
      "\n",
      "\n",
      "K-Nearest Neighbors - Test accuracy\n",
      " 0.967\n",
      "\n",
      "\n",
      "K-Nearest Neighbors - Test Classification Report\n",
      "              precision    recall  f1-score   support\n",
      "\n",
      "          0       0.97      0.99      0.98       143\n",
      "          1       0.97      0.93      0.95        67\n",
      "\n",
      "avg / total       0.97      0.97      0.97       210\n",
      "\n"
     ]
    }
   ],
   "source": [
    "ts_accscore = round(accuracy_score(y_test, knn_fit.predict(x_test)), 3)\n",
    "\n",
    "print(\"K-Nearest Neighbors - Test Confusion Matrix\\n\",\n",
    "     pd.crosstab(y_test, knn_fit.predict(x_test), rownames = [\"Actuall\"], colnames = [\"Predict\"]))\n",
    "\n",
    "print(\"\\n\\nK-Nearest Neighbors - Test accuracy\\n\", \n",
    "     ts_accscore)\n",
    "\n",
    "print(\"\\n\\nK-Nearest Neighbors - Test Classification Report\\n\",\n",
    "     classification_report(y_test, knn_fit.predict(x_test)))"
   ]
  },
  {
   "cell_type": "code",
   "execution_count": 57,
   "metadata": {},
   "outputs": [],
   "source": [
    "k_valchart.loc[i, 'K_value'] = k_vals[i]\n",
    "k_valchart.loc[i, 'Train_acc'] = tr_accscore\n",
    "k_valchart.loc[i, 'Test_acc'] = ts_accscore"
   ]
  },
  {
   "cell_type": "markdown",
   "metadata": {},
   "source": [
    "**Ploting accuracies over varied K-values**"
   ]
  },
  {
   "cell_type": "code",
   "execution_count": 58,
   "metadata": {},
   "outputs": [
    {
     "data": {
      "image/png": "[encoded data removed]",
      "text/plain": [
       "<Figure size 432x288 with 1 Axes>"
      ]
     },
     "metadata": {},
     "output_type": "display_data"
    }
   ],
   "source": [
    "import matplotlib.pyplot as plt\n",
    "\n",
    "plt.figure()\n",
    "plt.title('KNN Train & Test Accuracy change with K-value')\n",
    "plt.xlabel('K-value')\n",
    "plt.ylabel('Accuray')\n",
    "plt.plot(k_valchart[\"K_value\"], k_valchart[\"Train_acc\"])\n",
    "plt.plot(k_valchart[\"K_value\"], k_valchart[\"Test_acc\"])\n",
    "\n",
    "plt.axis([0.9, 5, 0.92, 1.005])\n",
    "plt.xticks([1,2,3,4,5])\n",
    "\n",
    "for a,b in zip(k_valchart[\"K_value\"], k_valchart[\"Train_acc\"]):\n",
    "    plt.text(a, b, str(b), fontsize = 10)\n",
    "    \n",
    "for a,b in zip(k_valchart[\"K_value\"], k_valchart[\"Test_acc\"]):\n",
    "    plt.text(a, b, str(b), fontsize = 10)\n",
    "    \n",
    "plt.legend(loc='upper right')\n",
    "plt.show()"
   ]
  },
  {
   "cell_type": "code",
   "execution_count": null,
   "metadata": {},
   "outputs": [],
   "source": []
  },
  {
   "cell_type": "code",
   "execution_count": null,
   "metadata": {},
   "outputs": [],
   "source": []
  }
 ],
 "metadata": {
  "kernelspec": {
   "display_name": "Python 3",
   "language": "python",
   "name": "python3"
  },
  "language_info": {
   "codemirror_mode": {
    "name": "ipython",
    "version": 3
   },
   "file_extension": ".py",
   "mimetype": "text/x-python",
   "name": "python",
   "nbconvert_exporter": "python",
   "pygments_lexer": "ipython3",
   "version": "3.6.5"
  }
 },
 "nbformat": 4,
 "nbformat_minor": 2
}

